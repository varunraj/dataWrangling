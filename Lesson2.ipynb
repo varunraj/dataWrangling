{
 "cells": [
  {
   "cell_type": "markdown",
   "metadata": {},
   "source": [
    "DESIGN GOALS OF XML\n",
    "====================\n",
    "\n",
    "- Data Transfers\n",
    "- Easy to write code to read/write\n",
    "- Document validation\n",
    "- Human readable\n",
    "- Supports wide variety of apps.\n",
    "\n",
    "XML are initually meant to represent table like structure of documents. Like NYtimes article xml where there are several nodes to store the data from a web page. Then it is repurposed to represent data itself. If we look at sample xml file frm opensteet, we can see the heavy usage of attrubutes inside each tag. And there will be so many empty tags also."
   ]
  },
  {
   "cell_type": "code",
   "execution_count": 3,
   "metadata": {
    "collapsed": false
   },
   "outputs": [
    {
     "name": "stdout",
     "output_type": "stream",
     "text": [
      "\\mChildren of Root:\n",
      "ui\n",
      "ji\n",
      "fm\n",
      "bdy\n",
      "bm\n"
     ]
    }
   ],
   "source": [
    "# Use python to read XML using TRee method ( we will load the entire xml to memory). We need to use\n",
    "# python lib xml.etree\n",
    "\n",
    "import xml.etree.ElementTree as ET\n",
    "import pprint\n",
    "\n",
    "tree = ET.parse('./data_files/exampleResearchArticle.xml')\n",
    "root = tree.getroot()\n",
    "\n",
    "# we can get the root elelemt and then look at all the children of root as below.\n",
    "print \"\\mChildren of Root:\"\n",
    "for child in root:\n",
    "    print child.tag\n",
    "    \n",
    "\n"
   ]
  },
  {
   "cell_type": "markdown",
   "metadata": {},
   "source": [
    "Use of FIND method : We can get to a specific node of the tree by find method on root. Below code shows how to get the tiles from the fm/bibl/title path."
   ]
  },
  {
   "cell_type": "code",
   "execution_count": 7,
   "metadata": {
    "collapsed": false
   },
   "outputs": [
    {
     "name": "stdout",
     "output_type": "stream",
     "text": [
      "\n",
      "Title:\n",
      "Standardization of the functional syndesmosis widening by dynamic U.S examination\n"
     ]
    }
   ],
   "source": [
    "title = root.find('./fm/bibl/title')\n",
    "title_text = \"\"\n",
    "\n",
    "for p in title: \n",
    "    title_text +=p.text   # title text can have several paragraphs. So we get them by taking p.text\n",
    "print \"\\nTitle:\\n\", title_text"
   ]
  },
  {
   "cell_type": "markdown",
   "metadata": {},
   "source": [
    "Use of \"FIND ALL\" method:"
   ]
  },
  {
   "cell_type": "code",
   "execution_count": 9,
   "metadata": {
    "collapsed": false
   },
   "outputs": [
    {
     "name": "stdout",
     "output_type": "stream",
     "text": [
      "\n",
      "Author email Addresses:\n",
      "omer@extremegate.com\n",
      "mcarmont@hotmail.com\n",
      "laver17@gmail.com\n",
      "nyska@internet-zahav.net\n",
      "kammarh@gmail.com\n",
      "gideon.mann.md@gmail.com\n",
      "barns.nz@gmail.com\n",
      "eukots@gmail.com\n"
     ]
    }
   ],
   "source": [
    "print \"\\nAuthor email Addresses:\"\n",
    "for a in root.findall('./fm/bibl/aug/au') :    # Look at all occurances of au\n",
    "    email = a.find('email')\n",
    "    if email is not None:\n",
    "        print email.text"
   ]
  },
  {
   "cell_type": "code",
   "execution_count": null,
   "metadata": {
    "collapsed": true
   },
   "outputs": [],
   "source": [
    "Sample Program: Write a program to read all the author data from given file and create a python dict\n",
    "containing fnm, snm and email address.   \n"
   ]
  },
  {
   "cell_type": "code",
   "execution_count": 11,
   "metadata": {
    "collapsed": false
   },
   "outputs": [
    {
     "data": {
      "text/plain": [
       "[{'email': 'omer@extremegate.com', 'fnm': 'Omer', 'snm': 'Mei-Dan'},\n",
       " {'email': 'mcarmont@hotmail.com', 'fnm': 'Mike', 'snm': 'Carmont'},\n",
       " {'email': 'laver17@gmail.com', 'fnm': 'Lior', 'snm': 'Laver'},\n",
       " {'email': 'nyska@internet-zahav.net', 'fnm': 'Meir', 'snm': 'Nyska'},\n",
       " {'email': 'kammarh@gmail.com', 'fnm': 'Hagay', 'snm': 'Kammar'},\n",
       " {'email': 'gideon.mann.md@gmail.com', 'fnm': 'Gideon', 'snm': 'Mann'},\n",
       " {'email': 'barns.nz@gmail.com', 'fnm': 'Barnaby', 'snm': 'Clarck'},\n",
       " {'email': 'eukots@gmail.com', 'fnm': 'Eugene', 'snm': 'Kots'}]"
      ]
     },
     "execution_count": 11,
     "metadata": {},
     "output_type": "execute_result"
    }
   ],
   "source": [
    "def get_authors():\n",
    "    authors = []\n",
    "    for author in root.findall('./fm/bibl/aug/au'):\n",
    "        data = {\n",
    "                \"fnm\": None,\n",
    "                \"snm\": None,\n",
    "                \"email\": None\n",
    "        }\n",
    "        fnm = author.find('fnm').text\n",
    "        snm = author.find('snm').text\n",
    "        email = author.find('email').text\n",
    "        \n",
    "        data = {'fnm':fnm ,'snm':snm, 'email':email}\n",
    "        authors.append(data)\n",
    "\n",
    "    return authors\n",
    "\n",
    "get_authors()"
   ]
  },
  {
   "cell_type": "markdown",
   "metadata": {},
   "source": [
    "If we look at the author entity we can see an attribute called insr.\n",
    "\n",
    "<au id=\"A2\">\n",
    "               <snm>Carmont</snm>\n",
    "               <fnm>Mike</fnm>\n",
    "               <insr iid=\"I2\"/>\n",
    "               <email>mcarmont@hotmail.com</email>\n",
    "</au>\n",
    "            \n",
    "If we scroll down in the xml file we can see that insr is the instiution affiliated by author.\n",
    "\n",
    "<insg>\n",
    "            <ins id=\"I1\">\n",
    "               <p>Department of Orthopaedics, Division of Sports Medicine, University of Colorado School of Medicine, Aurora, Colorado</p>\n",
    "            </ins>\n",
    "            <ins id=\"I2\">\n",
    "               <p>Princess Royal Hospital, Telford, UK</p>\n",
    "</ins>\n",
    "\n",
    "\n",
    "In this programming assigment, we need to update previous author list by adding insr attribute also. insr should be a list of values as one author can be associated to several institutions. We wil be using the get method to get the attribute value."
   ]
  },
  {
   "cell_type": "code",
   "execution_count": 12,
   "metadata": {
    "collapsed": false
   },
   "outputs": [
    {
     "data": {
      "text/plain": [
       "[{'email': 'omer@extremegate.com',\n",
       "  'fnm': 'Omer',\n",
       "  'insr': ['I1'],\n",
       "  'snm': 'Mei-Dan'},\n",
       " {'email': 'mcarmont@hotmail.com',\n",
       "  'fnm': 'Mike',\n",
       "  'insr': ['I2'],\n",
       "  'snm': 'Carmont'},\n",
       " {'email': 'laver17@gmail.com',\n",
       "  'fnm': 'Lior',\n",
       "  'insr': ['I3', 'I4'],\n",
       "  'snm': 'Laver'},\n",
       " {'email': 'nyska@internet-zahav.net',\n",
       "  'fnm': 'Meir',\n",
       "  'insr': ['I3'],\n",
       "  'snm': 'Nyska'},\n",
       " {'email': 'kammarh@gmail.com',\n",
       "  'fnm': 'Hagay',\n",
       "  'insr': ['I8'],\n",
       "  'snm': 'Kammar'},\n",
       " {'email': 'gideon.mann.md@gmail.com',\n",
       "  'fnm': 'Gideon',\n",
       "  'insr': ['I3', 'I5'],\n",
       "  'snm': 'Mann'},\n",
       " {'email': 'barns.nz@gmail.com',\n",
       "  'fnm': 'Barnaby',\n",
       "  'insr': ['I6'],\n",
       "  'snm': 'Clarck'},\n",
       " {'email': 'eukots@gmail.com', 'fnm': 'Eugene', 'insr': ['I7'], 'snm': 'Kots'}]"
      ]
     },
     "execution_count": 12,
     "metadata": {},
     "output_type": "execute_result"
    }
   ],
   "source": [
    "def get_authors():\n",
    "    authors = []\n",
    "    for author in root.findall('./fm/bibl/aug/au'):\n",
    "        data = {\n",
    "                \"fnm\": None,\n",
    "                \"snm\": None,\n",
    "                \"email\": None,\n",
    "                \"insr\": []\n",
    "        }\n",
    "        insrL = []\n",
    "        data['fnm'] = author.find('fnm').text\n",
    "        data['snm'] = author.find('snm').text\n",
    "        data['email'] = author.find('email').text\n",
    "        \n",
    "        for insr in author.findall('insr'):\n",
    "            insrL.append(insr.get('iid'))   # Use of get method to get values of attr iid.We can also use insr.attrib[\"iid\"]\n",
    "        data['insr'] = insrL\n",
    "        \n",
    "        authors.append(data)\n",
    "\n",
    "    return authors\n",
    "\n",
    "get_authors()"
   ]
  },
  {
   "cell_type": "code",
   "execution_count": null,
   "metadata": {
    "collapsed": true
   },
   "outputs": [],
   "source": []
  }
 ],
 "metadata": {
  "anaconda-cloud": {},
  "kernelspec": {
   "display_name": "Python [default]",
   "language": "python",
   "name": "python2"
  },
  "language_info": {
   "codemirror_mode": {
    "name": "ipython",
    "version": 2
   },
   "file_extension": ".py",
   "mimetype": "text/x-python",
   "name": "python",
   "nbconvert_exporter": "python",
   "pygments_lexer": "ipython2",
   "version": "2.7.12"
  }
 },
 "nbformat": 4,
 "nbformat_minor": 1
}
